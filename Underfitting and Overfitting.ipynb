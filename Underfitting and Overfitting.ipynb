{
 "cells": [
  {
   "cell_type": "markdown",
   "id": "68301f15",
   "metadata": {},
   "source": [
    "# Over vs Under\n",
    "Underfitted = Unprecised, does not captures the variations\n",
    "overfitted = looks like precise, but pratically looks like the real data. The problem here is that it also capture the white noise\n"
   ]
  },
  {
   "cell_type": "markdown",
   "id": "af401039",
   "metadata": {},
   "source": [
    "### A popular solution is to split our inicial dataset into two, training and test.\n",
    "Ex:90% training and 10% test, or 80%-20% are common.\n",
    " \n",
    "* We create a regression in the training data\n",
    "* After have the coefficients, we test our model on the test data by assessig the acuracy.\n",
    "\n",
    "The point here is that the model obtained never had access to the test dataset. Therefore, it can not overfit on it.\n",
    "\n",
    "    \n",
    "    \n",
    "    "
   ]
  },
  {
   "cell_type": "code",
   "execution_count": null,
   "id": "cce1b642",
   "metadata": {},
   "outputs": [],
   "source": []
  },
  {
   "cell_type": "code",
   "execution_count": null,
   "id": "1fcabf60",
   "metadata": {},
   "outputs": [],
   "source": []
  },
  {
   "cell_type": "code",
   "execution_count": null,
   "id": "f72ef53a",
   "metadata": {},
   "outputs": [],
   "source": []
  }
 ],
 "metadata": {
  "kernelspec": {
   "display_name": "Python 3 (ipykernel)",
   "language": "python",
   "name": "python3"
  },
  "language_info": {
   "codemirror_mode": {
    "name": "ipython",
    "version": 3
   },
   "file_extension": ".py",
   "mimetype": "text/x-python",
   "name": "python",
   "nbconvert_exporter": "python",
   "pygments_lexer": "ipython3",
   "version": "3.9.15"
  }
 },
 "nbformat": 4,
 "nbformat_minor": 5
}
